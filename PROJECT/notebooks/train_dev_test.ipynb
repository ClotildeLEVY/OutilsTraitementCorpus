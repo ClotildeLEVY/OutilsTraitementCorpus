{
 "cells": [
  {
   "cell_type": "markdown",
   "metadata": {},
   "source": [
    "## Split du corpus en train, dev et test\n",
    ">TP6"
   ]
  },
  {
   "cell_type": "code",
   "execution_count": 1,
   "metadata": {},
   "outputs": [],
   "source": [
    "#Importation des bibliothèques nécessaires\n",
    "import pandas as pd\n",
    "#Utilisation de sklear mais aussi possible avec datasets\n",
    "from sklearn.model_selection import train_test_split"
   ]
  },
  {
   "cell_type": "code",
   "execution_count": 2,
   "metadata": {},
   "outputs": [],
   "source": [
    "#Chargement du corpus\n",
    "df = pd.read_parquet(\"articles_cleaned.parquet\")"
   ]
  },
  {
   "cell_type": "code",
   "execution_count": 6,
   "metadata": {},
   "outputs": [
    {
     "name": "stdout",
     "output_type": "stream",
     "text": [
      "Taille de l'ensemble d'entraînement : 16\n",
      "Taille de l'ensemble de test : 9\n",
      "Taille de l'ensemble de dev : 4\n"
     ]
    }
   ],
   "source": [
    "train_df, test_df = train_test_split(df, test_size=0.3, random_state=42)\n",
    "train_df, dev_df = train_test_split(train_df, test_size=0.2, random_state=42)\n",
    "\n",
    "# print(\"Taille de l'ensemble d'entraînement :\", len(train_df))\n",
    "# print(\"Taille de l'ensemble de test :\", len(test_df))\n",
    "# print(\"Taille de l'ensemble de dev :\", len(dev_df))"
   ]
  }
 ],
 "metadata": {
  "kernelspec": {
   "display_name": "pythonEnv",
   "language": "python",
   "name": "python3"
  },
  "language_info": {
   "codemirror_mode": {
    "name": "ipython",
    "version": 3
   },
   "file_extension": ".py",
   "mimetype": "text/x-python",
   "name": "python",
   "nbconvert_exporter": "python",
   "pygments_lexer": "ipython3",
   "version": "3.11.4"
  }
 },
 "nbformat": 4,
 "nbformat_minor": 2
}
