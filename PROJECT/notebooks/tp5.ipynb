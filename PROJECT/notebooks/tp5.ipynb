{
 "cells": [
  {
   "cell_type": "markdown",
   "metadata": {},
   "source": [
    "# NOTEBOOK POUR L'ÉVALUATION DU CORPUS CONSTITUÉ\n",
    "> TP5"
   ]
  },
  {
   "cell_type": "code",
   "execution_count": 17,
   "metadata": {},
   "outputs": [],
   "source": [
    "#Importation des bibliothèques nécessaires\n",
    "import matplotlib.pyplot as plt\n",
    "import scipy\n",
    "import spacy\n",
    "import numpy as np\n",
    "from datasets import load_dataset"
   ]
  },
  {
   "cell_type": "code",
   "execution_count": 21,
   "metadata": {},
   "outputs": [
    {
     "data": {
      "text/plain": [
       "Dataset({\n",
       "    features: ['text', 'summary'],\n",
       "    num_rows: 29\n",
       "})"
      ]
     },
     "execution_count": 21,
     "metadata": {},
     "output_type": "execute_result"
    }
   ],
   "source": [
    "#Chargement du corpus\n",
    "dataset = load_dataset(\"parquet\", data_files=\"articles_cleaned.parquet\", split=\"train\")\n",
    "\n",
    "nlp = spacy.load(\"fr_core_news_md\")\n",
    "\n",
    "#Affichage des informations du dataset\n",
    "dataset"
   ]
  },
  {
   "cell_type": "markdown",
   "metadata": {},
   "source": [
    "## Mesure de la corrélation entre les deux variables"
   ]
  },
  {
   "cell_type": "code",
   "execution_count": 27,
   "metadata": {},
   "outputs": [],
   "source": [
    "#Initialisation de deux listes (pour texte et résumé) pour récupérer les valeurs et y appliquer le calcul de corrélation\n",
    "text_lengths = []\n",
    "summary_lengths = []\n",
    "\n",
    "for i in dataset:\n",
    "    text_length = len(nlp(i[\"text\"]))\n",
    "    summary_length = len(nlp(i[\"summary\"]))\n",
    "    text_lengths.append(text_length)\n",
    "    summary_lengths.append(summary_length)\n",
    "\n",
    "#Impression des deux listes crées\n",
    "# print(text_lengths)\n",
    "# print(summary_lengths)"
   ]
  },
  {
   "cell_type": "code",
   "execution_count": 26,
   "metadata": {},
   "outputs": [
    {
     "name": "stdout",
     "output_type": "stream",
     "text": [
      "--------------------------------\n",
      "Mode: two-sided\n",
      "Pearson Correlation: +0.0119; p-value: +0.9513\n",
      "Spearman Correlation: -0.0301; p-value: +0.8768\n",
      "--------------------------------\n",
      "Mode: greater\n",
      "Pearson Correlation: +0.0119; p-value: +0.4756\n",
      "Spearman Correlation: -0.0301; p-value: +0.5616\n",
      "--------------------------------\n",
      "Mode: less\n",
      "Pearson Correlation: +0.0119; p-value: +0.5244\n",
      "Spearman Correlation: -0.0301; p-value: +0.4384\n"
     ]
    },
    {
     "data": {
      "image/png": "[encoded data removed]",
      "text/plain": [
       "<Figure size 640x480 with 1 Axes>"
      ]
     },
     "metadata": {},
     "output_type": "display_data"
    }
   ],
   "source": [
    "#Calcul de la corrélation entre les deux variables : longueur des textes et longueur des résumés\n",
    "for mode in [\"two-sided\", \"greater\", \"less\"]:\n",
    "    print(\"-\" * 32)\n",
    "    print(\"Mode:\", mode)\n",
    "    pearson_corr, pearson_pvalue = scipy.stats.pearsonr(text_lengths, summary_lengths, alternative=mode)\n",
    "    print(f\"Pearson Correlation: {pearson_corr:+.4f}; p-value: {pearson_pvalue:+.4f}\")\n",
    "    spearman_corr, spearman_pvalue = scipy.stats.spearmanr(text_lengths, summary_lengths, alternative=mode)\n",
    "    print(f\"Spearman Correlation: {spearman_corr:+.4f}; p-value: {spearman_pvalue:+.4f}\")\n",
    "\n",
    "#Création du graphique de corrélation\n",
    "plt.scatter(text_lengths, summary_lengths)\n",
    "plt.xlabel(\"Longueur texte\")\n",
    "plt.ylabel(\"Longueur résumé\")\n",
    "plt.title(\"Calcul de la corrélation entre les deux variables\")\n",
    "plt.show()"
   ]
  },
  {
   "cell_type": "markdown",
   "metadata": {},
   "source": [
    "Interprétations : \n",
    "\n",
    "- mode **two-sided** _(mode par défaut)_ qui teste l'hypothèse nulle selon laquelle la corrélation exercée entre les deux variables est nulle. Par conséquent, puisque la p-value dans notre cas est > 0.05, la corrélation entre les deux variables n'est pas significative.\n",
    "\n",
    "- mode **greater** _(hypothèse alternative)_ qui teste l'hypothèse selon laquelle la corrélation entre les deux variables est positive. Dans notre cas, la corrélation n'est pas significative.\n",
    "\n",
    "- mode **less** _(hypothèse alternative)_ qui teste l'hypothèse selon laquelle la corrélation entre les deux variables est négative. Dans notre cas, la corrélation n'est pas significative non plus.\n",
    "\n",
    "Finalement, nous remarquons que dans les 3 modes distincts, il n'y a pas de corrélation significative entre les longueurs des textes et celle des résumés du corpus."
   ]
  },
  {
   "cell_type": "markdown",
   "metadata": {},
   "source": [
    "## Élimination des données abérrantes (utilisation de la méthode IQR = écart inter-quartile)"
   ]
  },
  {
   "cell_type": "code",
   "execution_count": 30,
   "metadata": {},
   "outputs": [
    {
     "name": "stdout",
     "output_type": "stream",
     "text": [
      "[]\n"
     ]
    }
   ],
   "source": [
    "#Pour les textes (=contenus des articles)\n",
    "q1_text = np.percentile(text_lengths, 25)\n",
    "q3_text = np.percentile(summary_lengths, 75)\n",
    "\n",
    "iqr_text = q3_text - q1_text\n",
    "\n",
    "#Initialisation des seuils inférieur et supérieur\n",
    "seuil_inférieur_text = q1_text - 1.5 * iqr_text\n",
    "seuil_supérieur_text = q3_text + 1.5 * iqr_text\n",
    "\n",
    "#Suppression des données aberrantes pour les textes\n",
    "filtre_text_lengths = []\n",
    "for length in text_lengths:\n",
    "    if seuil_inférieur_text <= length <= seuil_supérieur_text:\n",
    "        filtre_text_lengths.append(length)\n",
    "\n",
    "#print(filtre_text_lengths)"
   ]
  },
  {
   "cell_type": "code",
   "execution_count": 34,
   "metadata": {},
   "outputs": [],
   "source": [
    "#Même chose pour les résumés\n",
    "q1_summary = np.percentile(summary_lengths, 25)\n",
    "q3_summary = np.percentile(summary_lengths, 75)\n",
    "\n",
    "iqr_summary = q3_summary - q1_summary\n",
    "\n",
    "#Initialisation des seuils inférieur et supérieur\n",
    "seuil_inférieur_summary = q1_summary - 1.5 * iqr_summary\n",
    "seuil_supérieur_summary = q3_summary + 1.5 * iqr_summary\n",
    "\n",
    "#Suppression des données aberrantes pour les textes\n",
    "filtre_summary_lengths = []\n",
    "for length in summary_lengths:\n",
    "    if seuil_inférieur_summary <= length <= seuil_supérieur_summary:\n",
    "        filtre_summary_lengths.append(length)\n",
    "\n",
    "# print(filtre_summary_lengths)"
   ]
  },
  {
   "cell_type": "markdown",
   "metadata": {},
   "source": [
    "Problème ici : nous remarquons que toutes les valeurs sont considérées comme aberrantes.  \n",
    "Je vais donc plutôt enlever les paires texte-résumé qui ont un ratio de compression trop élevé."
   ]
  },
  {
   "cell_type": "code",
   "execution_count": 46,
   "metadata": {},
   "outputs": [
    {
     "data": {
      "image/png": "[encoded data removed]",
      "text/plain": [
       "<Figure size 640x480 with 1 Axes>"
      ]
     },
     "metadata": {},
     "output_type": "display_data"
    }
   ],
   "source": [
    "#Initialisation de la liste pour les ratios de compression\n",
    "compression_ratio = []\n",
    "for summary_len, text_len in zip(summary_lengths, text_lengths):\n",
    "    if text_len > 0:\n",
    "        ratio = summary_len / text_len\n",
    "    else:\n",
    "        ratio = 0\n",
    "    compression_ratio.append(ratio)\n",
    "\n",
    "#Initialisation des seuils pour le ratio de compression\n",
    "seuil_inférieur = 0.05 #Au moins 5% de la longueur des textes\n",
    "seuil_supérieur = 0.4 #Pas de dépassement au delà de 40% de la longueur des textes\n",
    "\n",
    "#Initialisation des listes\n",
    "filtre_texts = []\n",
    "filtre_summaries = []\n",
    "filtre_text_lengths = []\n",
    "filtre_summary_lengths = []\n",
    "filtre_ratios = []\n",
    "\n",
    "for text, summary, text_len, summary_len, ratio in zip(dataset['text'], dataset['summary'], text_lengths, summary_lengths, compression_ratio):\n",
    "    if seuil_inférieur <= ratio <= seuil_supérieur:\n",
    "        filtre_texts.append(text)\n",
    "        filtre_summaries.append(summary)\n",
    "        filtre_text_lengths.append(text_len)\n",
    "        filtre_summary_lengths.append(summary_len)\n",
    "        filtre_ratios.append(ratio)\n",
    "\n",
    "plt.hist(filtre_ratios, bins=50, color='orange', edgecolor='black')\n",
    "plt.title('Distribution des ratios longueur résumé / longueur texte (filtrés)')\n",
    "plt.xlabel('Ratio')\n",
    "plt.ylabel('Fréquence')\n",
    "plt.show()"
   ]
  },
  {
   "cell_type": "code",
   "execution_count": 53,
   "metadata": {},
   "outputs": [
    {
     "name": "stdout",
     "output_type": "stream",
     "text": [
      "Pearson correlation: +0.2528; p-value: +2.5638e-01\n",
      "Spearman correlation: +0.2864; p-value: +1.9622e-01\n"
     ]
    },
    {
     "data": {
      "image/png": "[encoded data removed]",
      "text/plain": [
       "<Figure size 640x480 with 1 Axes>"
      ]
     },
     "metadata": {},
     "output_type": "display_data"
    }
   ],
   "source": [
    "#Nouvelle visualisation de la corrélation, pour voir si les données aberrantes ont bien été écartées\n",
    "pearson_corr, pearson_p = scipy.stats.pearsonr(filtre_text_lengths, filtre_summary_lengths)\n",
    "spearman_corr, spearman_p = scipy.stats.spearmanr(filtre_text_lengths, filtre_summary_lengths)\n",
    "\n",
    "#Résultats des corrélations\n",
    "print(f\"Pearson correlation: {pearson_corr:+.4f}; p-value: {pearson_p:+.4e}\")\n",
    "print(f\"Spearman correlation: {spearman_corr:+.4f}; p-value: {spearman_p:+.4e}\")\n",
    "\n",
    "#Visualisation de la corrélation\n",
    "plt.scatter(filtre_text_lengths, filtre_summary_lengths, color='orange')\n",
    "plt.title(\"Corrélation entre la longueur des textes et des résumés (données filtrées)\")\n",
    "plt.xlabel(\"Longueur des textes\")\n",
    "plt.ylabel(\"Longueur des résumés\")\n",
    "plt.show()"
   ]
  },
  {
   "cell_type": "markdown",
   "metadata": {},
   "source": [
    "## Augmentation des données\n",
    "> pour augmenter les données de mon corpus, je vais utiliser une technique de génération de texte, je vais utiliser le modèle **RoBERTa** de la bibliothèque HuggingFace Transformers. "
   ]
  },
  {
   "cell_type": "code",
   "execution_count": 55,
   "metadata": {},
   "outputs": [],
   "source": [
    "#Importation des bibliothèques\n",
    "from transformers import pipeline\n",
    "import pandas as pd"
   ]
  },
  {
   "cell_type": "code",
   "execution_count": 57,
   "metadata": {},
   "outputs": [],
   "source": [
    "#Chargement du corpus\n",
    "df = pd.read_parquet(\"articles_cleaned.parquet\")\n",
    "texte_depart = df[\"text\"].iloc[0]"
   ]
  },
  {
   "cell_type": "code",
   "execution_count": 9,
   "metadata": {},
   "outputs": [
    {
     "ename": "NameError",
     "evalue": "name 'pipeline' is not defined",
     "output_type": "error",
     "traceback": [
      "\u001b[0;31m---------------------------------------------------------------------------\u001b[0m",
      "\u001b[0;31mNameError\u001b[0m                                 Traceback (most recent call last)",
      "Cell \u001b[0;32mIn[9], line 2\u001b[0m\n\u001b[1;32m      1\u001b[0m \u001b[38;5;66;03m#Chargement du modèle RoBERTa \u001b[39;00m\n\u001b[0;32m----> 2\u001b[0m text_generator \u001b[38;5;241m=\u001b[39m \u001b[43mpipeline\u001b[49m(\u001b[38;5;124m\"\u001b[39m\u001b[38;5;124mtext-generation\u001b[39m\u001b[38;5;124m\"\u001b[39m, model\u001b[38;5;241m=\u001b[39m\u001b[38;5;124m\"\u001b[39m\u001b[38;5;124mroberta-base\u001b[39m\u001b[38;5;124m\"\u001b[39m, device\u001b[38;5;241m=\u001b[39m\u001b[38;5;124m\"\u001b[39m\u001b[38;5;124mcpu\u001b[39m\u001b[38;5;124m\"\u001b[39m)\n\u001b[1;32m      3\u001b[0m generated_text \u001b[38;5;241m=\u001b[39m text_generator(texte_depart, max_new_tokens\u001b[38;5;241m=\u001b[39m\u001b[38;5;241m20\u001b[39m, num_return_sequences\u001b[38;5;241m=\u001b[39m\u001b[38;5;241m1\u001b[39m, num_beams\u001b[38;5;241m=\u001b[39m\u001b[38;5;241m5\u001b[39m)\n\u001b[1;32m      5\u001b[0m \u001b[38;5;66;03m# print(generated_text)\u001b[39;00m\n",
      "\u001b[0;31mNameError\u001b[0m: name 'pipeline' is not defined"
     ]
    }
   ],
   "source": [
    "#Chargement du modèle RoBERTa \n",
    "text_generator = pipeline(\"text-generation\", model=\"roberta-base\", device=\"cpu\")\n",
    "generated_text = text_generator(texte_depart, max_new_tokens=20, num_return_sequences=1, num_beams=5)\n",
    "\n",
    "# print(generated_text)"
   ]
  },
  {
   "cell_type": "markdown",
   "metadata": {},
   "source": [
    "Je ne suis pas parvenue à régler les problèmes. De ce fait, je n'ai pas pu augmenter mes données."
   ]
  },
  {
   "cell_type": "markdown",
   "metadata": {},
   "source": [
    "## Split du corpus en test et train"
   ]
  },
  {
   "cell_type": "code",
   "execution_count": 5,
   "metadata": {},
   "outputs": [
    {
     "name": "stdout",
     "output_type": "stream",
     "text": [
      "Taille de l'ensemble d'entraînement : 20\n",
      "Taille de l'ensemble de test : 9\n"
     ]
    }
   ],
   "source": [
    "#Importation des bibliothèques nécessaires\n",
    "from sklearn.model_selection import train_test_split\n",
    "import pandas as pd\n",
    "\n",
    "#Chargement du corpus\n",
    "df = pd.read_parquet(\"articles_cleaned.parquet\")\n",
    "\n",
    "#J'ai opté pour le paramétrage par défaut : 70% train et 30% test\n",
    "train_data, test_data = train_test_split(df, test_size=0.3, random_state=42)\n",
    "\n",
    "# print(\"Taille de l'ensemble d'entraînement :\", len(train_data))\n",
    "# print(\"Taille de l'ensemble de test :\", len(test_data))"
   ]
  },
  {
   "cell_type": "markdown",
   "metadata": {},
   "source": [
    "## Évaluation du corpus avec les métriques adaptées\n",
    "> _j'aimerai calculer les scores ORACLE et LEAD afin de donner des repères sur les scores qu'il faut obtenir sur le corpus, et d'évaluer sa qualité._"
   ]
  },
  {
   "cell_type": "markdown",
   "metadata": {},
   "source": [
    "Voici les grandes étapes à effectuer pour déterminer les scores ORACLE et LEAD :\n",
    "- effectuer certains prétraitements sur le corpus (suppression de la ponctuation, des stopwords, normalisation de la casse, etc.) -> _création d'un nouveau script : voir repository (pre_traitements.py)_\n",
    "- calcul des vecteurs TF-IDF \n",
    "- calcul de la similarité cosinus entre les vecteurs \n",
    "- calcul des scores ORACLE et LEAD"
   ]
  },
  {
   "cell_type": "markdown",
   "metadata": {},
   "source": [
    "### Calculs des vecteurs TF-IDF"
   ]
  },
  {
   "cell_type": "code",
   "execution_count": 2,
   "metadata": {},
   "outputs": [
    {
     "name": "stderr",
     "output_type": "stream",
     "text": [
      "[nltk_data] Downloading package stopwords to\n",
      "[nltk_data]     /home/clotilde/nltk_data...\n",
      "[nltk_data]   Package stopwords is already up-to-date!\n"
     ]
    }
   ],
   "source": [
    "#Importation des bibliothèques nécessaires\n",
    "from sklearn.feature_extraction.text import TfidfVectorizer\n",
    "from sklearn.metrics.pairwise import cosine_similarity\n",
    "import numpy as np\n",
    "import nltk\n",
    "from nltk.corpus import stopwords\n",
    "import pandas as pd\n",
    "\n",
    "nltk.download(\"stopwords\")\n",
    "stop_words_fr = set(stopwords.words('french'))\n",
    "stop_words = list(stop_words_fr)\n",
    "\n",
    "#Chargement du corpus prétraité\n",
    "df = pd.read_parquet(\"articles_preprocessed.parquet\")"
   ]
  },
  {
   "cell_type": "code",
   "execution_count": 3,
   "metadata": {},
   "outputs": [],
   "source": [
    "#Création d'un TfidfVectorizer pour les textes\n",
    "tfidf_vectorizer_text = TfidfVectorizer(stop_words=stop_words, lowercase=True)\n",
    "\n",
    "#Création de la matrice pour les textes\n",
    "tfidf_matrix_text = tfidf_vectorizer_text.fit_transform(df[\"text\"])\n",
    "\n",
    "#print(\"Taille de la matrice TF-IDF :\", tfidf_matrix_text.shape)\n",
    "#print(\"Contenu de la matrice TF-IDF :\\n\", tfidf_matrix_text.toarray())\n",
    "\n",
    "#Obtention des features pour les textes\n",
    "feature_names_text = tfidf_vectorizer_text.get_feature_names_out()\n",
    "#print(\"Features des textes :\", feature_names)"
   ]
  },
  {
   "cell_type": "code",
   "execution_count": 4,
   "metadata": {},
   "outputs": [],
   "source": [
    "#Création d''un TfidfVectorizer pour les résumés\n",
    "tfidf_vectorizer_summary = TfidfVectorizer(stop_words=stop_words, lowercase=True)\n",
    "\n",
    "#Création de la matrice pour les résumés\n",
    "tfidf_matrix_summary = tfidf_vectorizer_summary.fit_transform(df[\"summary\"])\n",
    "\n",
    "# print(\"Taille de la matrice TF-IDF pour les résumés :\", tfidf_matrix_summary.shape)\n",
    "# print(\"Contenu de la matrice TF-IDF pour les résumés :\\n\", tfidf_matrix_summary.toarray())\n",
    "\n",
    "#Obtention des features pour les résumés\n",
    "feature_names_summary = tfidf_vectorizer_summary.get_feature_names_out()\n",
    "\n",
    "# print(\"Features des résumés :\", feature_names_summary)"
   ]
  },
  {
   "cell_type": "code",
   "execution_count": 5,
   "metadata": {},
   "outputs": [],
   "source": [
    "#Convertion des deux matrices TF-IDF en DataFrame pandas\n",
    "\n",
    "tfidf_df_text = pd.DataFrame(tfidf_matrix_text.toarray(), columns=feature_names_text)\n",
    "tfidf_df_summary = pd.DataFrame(tfidf_matrix_summary.toarray(), columns=feature_names_summary)"
   ]
  },
  {
   "cell_type": "markdown",
   "metadata": {},
   "source": [
    "### Calcul de la matrice de similarité cosinus"
   ]
  },
  {
   "cell_type": "code",
   "execution_count": 6,
   "metadata": {},
   "outputs": [],
   "source": [
    "#Importation des bibliothèques nécessaires\n",
    "from sklearn.metrics.pairwise import cosine_similarity"
   ]
  },
  {
   "cell_type": "code",
   "execution_count": 7,
   "metadata": {},
   "outputs": [
    {
     "ename": "ValueError",
     "evalue": "Incompatible dimension for X and Y matrices: X.shape[1] == 3740 while Y.shape[1] == 514",
     "output_type": "error",
     "traceback": [
      "\u001b[0;31m---------------------------------------------------------------------------\u001b[0m",
      "\u001b[0;31mValueError\u001b[0m                                Traceback (most recent call last)",
      "Cell \u001b[0;32mIn[7], line 2\u001b[0m\n\u001b[1;32m      1\u001b[0m \u001b[38;5;66;03m#Calcul de la similarité cosinus des vecteurs TF-IDF pour les textes et les résumés\u001b[39;00m\n\u001b[0;32m----> 2\u001b[0m similarity \u001b[38;5;241m=\u001b[39m \u001b[43mcosine_similarity\u001b[49m\u001b[43m(\u001b[49m\u001b[43mtfidf_matrix_text\u001b[49m\u001b[43m,\u001b[49m\u001b[43m \u001b[49m\u001b[43mtfidf_matrix_summary\u001b[49m\u001b[43m)\u001b[49m\n\u001b[1;32m      4\u001b[0m \u001b[38;5;28mprint\u001b[39m(\u001b[38;5;124m\"\u001b[39m\u001b[38;5;124mMatrice de similarité cosinus :\u001b[39m\u001b[38;5;130;01m\\n\u001b[39;00m\u001b[38;5;124m\"\u001b[39m, similarity)\n",
      "File \u001b[0;32m~/Documents/pythonEnv/lib/python3.11/site-packages/sklearn/utils/_param_validation.py:213\u001b[0m, in \u001b[0;36mvalidate_params.<locals>.decorator.<locals>.wrapper\u001b[0;34m(*args, **kwargs)\u001b[0m\n\u001b[1;32m    207\u001b[0m \u001b[38;5;28;01mtry\u001b[39;00m:\n\u001b[1;32m    208\u001b[0m     \u001b[38;5;28;01mwith\u001b[39;00m config_context(\n\u001b[1;32m    209\u001b[0m         skip_parameter_validation\u001b[38;5;241m=\u001b[39m(\n\u001b[1;32m    210\u001b[0m             prefer_skip_nested_validation \u001b[38;5;129;01mor\u001b[39;00m global_skip_validation\n\u001b[1;32m    211\u001b[0m         )\n\u001b[1;32m    212\u001b[0m     ):\n\u001b[0;32m--> 213\u001b[0m         \u001b[38;5;28;01mreturn\u001b[39;00m \u001b[43mfunc\u001b[49m\u001b[43m(\u001b[49m\u001b[38;5;241;43m*\u001b[39;49m\u001b[43margs\u001b[49m\u001b[43m,\u001b[49m\u001b[43m \u001b[49m\u001b[38;5;241;43m*\u001b[39;49m\u001b[38;5;241;43m*\u001b[39;49m\u001b[43mkwargs\u001b[49m\u001b[43m)\u001b[49m\n\u001b[1;32m    214\u001b[0m \u001b[38;5;28;01mexcept\u001b[39;00m InvalidParameterError \u001b[38;5;28;01mas\u001b[39;00m e:\n\u001b[1;32m    215\u001b[0m     \u001b[38;5;66;03m# When the function is just a wrapper around an estimator, we allow\u001b[39;00m\n\u001b[1;32m    216\u001b[0m     \u001b[38;5;66;03m# the function to delegate validation to the estimator, but we replace\u001b[39;00m\n\u001b[1;32m    217\u001b[0m     \u001b[38;5;66;03m# the name of the estimator by the name of the function in the error\u001b[39;00m\n\u001b[1;32m    218\u001b[0m     \u001b[38;5;66;03m# message to avoid confusion.\u001b[39;00m\n\u001b[1;32m    219\u001b[0m     msg \u001b[38;5;241m=\u001b[39m re\u001b[38;5;241m.\u001b[39msub(\n\u001b[1;32m    220\u001b[0m         \u001b[38;5;124mr\u001b[39m\u001b[38;5;124m\"\u001b[39m\u001b[38;5;124mparameter of \u001b[39m\u001b[38;5;124m\\\u001b[39m\u001b[38;5;124mw+ must be\u001b[39m\u001b[38;5;124m\"\u001b[39m,\n\u001b[1;32m    221\u001b[0m         \u001b[38;5;124mf\u001b[39m\u001b[38;5;124m\"\u001b[39m\u001b[38;5;124mparameter of \u001b[39m\u001b[38;5;132;01m{\u001b[39;00mfunc\u001b[38;5;241m.\u001b[39m\u001b[38;5;18m__qualname__\u001b[39m\u001b[38;5;132;01m}\u001b[39;00m\u001b[38;5;124m must be\u001b[39m\u001b[38;5;124m\"\u001b[39m,\n\u001b[1;32m    222\u001b[0m         \u001b[38;5;28mstr\u001b[39m(e),\n\u001b[1;32m    223\u001b[0m     )\n",
      "File \u001b[0;32m~/Documents/pythonEnv/lib/python3.11/site-packages/sklearn/metrics/pairwise.py:1657\u001b[0m, in \u001b[0;36mcosine_similarity\u001b[0;34m(X, Y, dense_output)\u001b[0m\n\u001b[1;32m   1613\u001b[0m \u001b[38;5;250m\u001b[39m\u001b[38;5;124;03m\"\"\"Compute cosine similarity between samples in X and Y.\u001b[39;00m\n\u001b[1;32m   1614\u001b[0m \n\u001b[1;32m   1615\u001b[0m \u001b[38;5;124;03mCosine similarity, or the cosine kernel, computes similarity as the\u001b[39;00m\n\u001b[0;32m   (...)\u001b[0m\n\u001b[1;32m   1653\u001b[0m \u001b[38;5;124;03m       [0.57..., 0.81...]])\u001b[39;00m\n\u001b[1;32m   1654\u001b[0m \u001b[38;5;124;03m\"\"\"\u001b[39;00m\n\u001b[1;32m   1655\u001b[0m \u001b[38;5;66;03m# to avoid recursive import\u001b[39;00m\n\u001b[0;32m-> 1657\u001b[0m X, Y \u001b[38;5;241m=\u001b[39m \u001b[43mcheck_pairwise_arrays\u001b[49m\u001b[43m(\u001b[49m\u001b[43mX\u001b[49m\u001b[43m,\u001b[49m\u001b[43m \u001b[49m\u001b[43mY\u001b[49m\u001b[43m)\u001b[49m\n\u001b[1;32m   1659\u001b[0m X_normalized \u001b[38;5;241m=\u001b[39m normalize(X, copy\u001b[38;5;241m=\u001b[39m\u001b[38;5;28;01mTrue\u001b[39;00m)\n\u001b[1;32m   1660\u001b[0m \u001b[38;5;28;01mif\u001b[39;00m X \u001b[38;5;129;01mis\u001b[39;00m Y:\n",
      "File \u001b[0;32m~/Documents/pythonEnv/lib/python3.11/site-packages/sklearn/metrics/pairwise.py:189\u001b[0m, in \u001b[0;36mcheck_pairwise_arrays\u001b[0;34m(X, Y, precomputed, dtype, accept_sparse, force_all_finite, copy)\u001b[0m\n\u001b[1;32m    183\u001b[0m         \u001b[38;5;28;01mraise\u001b[39;00m \u001b[38;5;167;01mValueError\u001b[39;00m(\n\u001b[1;32m    184\u001b[0m             \u001b[38;5;124m\"\u001b[39m\u001b[38;5;124mPrecomputed metric requires shape \u001b[39m\u001b[38;5;124m\"\u001b[39m\n\u001b[1;32m    185\u001b[0m             \u001b[38;5;124m\"\u001b[39m\u001b[38;5;124m(n_queries, n_indexed). Got (\u001b[39m\u001b[38;5;132;01m%d\u001b[39;00m\u001b[38;5;124m, \u001b[39m\u001b[38;5;132;01m%d\u001b[39;00m\u001b[38;5;124m) \u001b[39m\u001b[38;5;124m\"\u001b[39m\n\u001b[1;32m    186\u001b[0m             \u001b[38;5;124m\"\u001b[39m\u001b[38;5;124mfor \u001b[39m\u001b[38;5;132;01m%d\u001b[39;00m\u001b[38;5;124m indexed.\u001b[39m\u001b[38;5;124m\"\u001b[39m \u001b[38;5;241m%\u001b[39m (X\u001b[38;5;241m.\u001b[39mshape[\u001b[38;5;241m0\u001b[39m], X\u001b[38;5;241m.\u001b[39mshape[\u001b[38;5;241m1\u001b[39m], Y\u001b[38;5;241m.\u001b[39mshape[\u001b[38;5;241m0\u001b[39m])\n\u001b[1;32m    187\u001b[0m         )\n\u001b[1;32m    188\u001b[0m \u001b[38;5;28;01melif\u001b[39;00m X\u001b[38;5;241m.\u001b[39mshape[\u001b[38;5;241m1\u001b[39m] \u001b[38;5;241m!=\u001b[39m Y\u001b[38;5;241m.\u001b[39mshape[\u001b[38;5;241m1\u001b[39m]:\n\u001b[0;32m--> 189\u001b[0m     \u001b[38;5;28;01mraise\u001b[39;00m \u001b[38;5;167;01mValueError\u001b[39;00m(\n\u001b[1;32m    190\u001b[0m         \u001b[38;5;124m\"\u001b[39m\u001b[38;5;124mIncompatible dimension for X and Y matrices: \u001b[39m\u001b[38;5;124m\"\u001b[39m\n\u001b[1;32m    191\u001b[0m         \u001b[38;5;124m\"\u001b[39m\u001b[38;5;124mX.shape[1] == \u001b[39m\u001b[38;5;132;01m%d\u001b[39;00m\u001b[38;5;124m while Y.shape[1] == \u001b[39m\u001b[38;5;132;01m%d\u001b[39;00m\u001b[38;5;124m\"\u001b[39m \u001b[38;5;241m%\u001b[39m (X\u001b[38;5;241m.\u001b[39mshape[\u001b[38;5;241m1\u001b[39m], Y\u001b[38;5;241m.\u001b[39mshape[\u001b[38;5;241m1\u001b[39m])\n\u001b[1;32m    192\u001b[0m     )\n\u001b[1;32m    194\u001b[0m \u001b[38;5;28;01mreturn\u001b[39;00m X, Y\n",
      "\u001b[0;31mValueError\u001b[0m: Incompatible dimension for X and Y matrices: X.shape[1] == 3740 while Y.shape[1] == 514"
     ]
    }
   ],
   "source": [
    "#Calcul de la similarité cosinus des vecteurs TF-IDF pour les textes et les résumés\n",
    "similarity = cosine_similarity(tfidf_matrix_text, tfidf_matrix_summary)\n",
    "\n",
    "print(\"Matrice de similarité cosinus :\\n\", similarity)"
   ]
  },
  {
   "cell_type": "markdown",
   "metadata": {},
   "source": [
    "PROBLÈME :  \n",
    "Je viens de me rendre compte que les features _(cad les mots)_ doivent nécessairement être les mêmes entre les deux matrices pour qu'elles soient comparables _(ce qui est logique mais je n'y ait pas pensé avant)_...  \n",
    "Pour calculer les scores ORACLE et LEAD il faudrait établir les mesures de similarités cosinus sur les résumés générés automatiquement et les résumés gold cad les résumés de référence faits par des humains.\n",
    "\n",
    "Étant donné que nous ne faisons pas la partie ML pour ce projet, je ne vois pas bien comment établir ces scores...\n"
   ]
  }
 ],
 "metadata": {
  "kernelspec": {
   "display_name": "pythonEnv",
   "language": "python",
   "name": "python3"
  },
  "language_info": {
   "codemirror_mode": {
    "name": "ipython",
    "version": 3
   },
   "file_extension": ".py",
   "mimetype": "text/x-python",
   "name": "python",
   "nbconvert_exporter": "python",
   "pygments_lexer": "ipython3",
   "version": "3.11.4"
  }
 },
 "nbformat": 4,
 "nbformat_minor": 2
}
